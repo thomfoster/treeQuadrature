{
 "cells": [
  {
   "cell_type": "markdown",
   "metadata": {},
   "source": [
    "# Multivariate normal density integral"
   ]
  },
  {
   "cell_type": "markdown",
   "metadata": {},
   "source": [
    "In this example notebook, we show how to create a target integral which can be integrated by treeQuadrature's methods. Here, our integral involves the probability density function of a multivariate normal:\n",
    "\n",
    "$$ p(x|\\mu,\\Sigma) = \\frac{1}{(2\\pi)^{d/2}|\\Sigma|^{1/2}} \\text{exp}\\left(-\\frac{1}{2}(x-\\mu)'\\Sigma^{-1}(x-\\mu)\\right),$$\n",
    "\n",
    "where, in our example, $\\mu = [0]^d$ and $\\Sigma=\\text{diag}_d(1/200)$, where $d$ is the dimensions of the distribution. Here, we aim to numerically approximate the multivariate definite integral:\n",
    "\n",
    "$$\\int_{-1}^{1} p(x|\\mu,\\Sigma) dx = \\text{Erf}(10)^d\\approx 1,$$\n",
    "\n",
    "where the limits are $[-1, 1]$ in each dimension of $d$, and $\\text{Erf}$ is the error function:\n",
    "\n",
    "$$\\text{Erf}(z) = \\frac{2}{\\sqrt{\\pi}} \\int_{0}^{z} \\exp(-t^2) dt.$$"
   ]
  },
  {
   "cell_type": "markdown",
   "metadata": {},
   "source": [
    "We first define a class that wraps the `MultivariateNormal` density class in the `treeQuadrature` package."
   ]
  },
  {
   "cell_type": "code",
   "execution_count": 1,
   "metadata": {},
   "outputs": [],
   "source": [
    "import treeQuadrature as tq\n",
    "\n",
    "class SimpleGaussian:\n",
    "    def __init__(self, D):\n",
    "        self.D = D\n",
    "        self.d = tq.exampleDistributions.MultivariateNormal(D=D, mean=[0.0]*D, cov=1/200)\n",
    "        self.low = -1.0\n",
    "        self.high = 1.0\n",
    "        self.answer = 1\n",
    "        \n",
    "    def pdf(self, X):\n",
    "        return self.d.pdf(X)"
   ]
  },
  {
   "cell_type": "markdown",
   "metadata": {},
   "source": [
    "Visualising this distribution for the 1d case, we see that the majority of integral mass is located within a small region."
   ]
  },
  {
   "cell_type": "code",
   "execution_count": 2,
   "metadata": {},
   "outputs": [
    {
     "data": {
      "image/png": "[encoded data removed]",
      "text/plain": [
       "<Figure size 432x288 with 1 Axes>"
      ]
     },
     "metadata": {
      "needs_background": "light"
     },
     "output_type": "display_data"
    }
   ],
   "source": [
    "import matplotlib.pyplot as plt\n",
    "import numpy as np\n",
    "\n",
    "# define integrand in 1d\n",
    "problem = SimpleGaussian(1)\n",
    "\n",
    "# plot\n",
    "x = np.linspace(-1, 1, 1000)\n",
    "dens = problem.pdf(x)\n",
    "plt.plot(x, dens)\n",
    "plt.xlabel('x')\n",
    "plt.ylabel('density')\n",
    "plt.show()"
   ]
  },
  {
   "cell_type": "markdown",
   "metadata": {},
   "source": [
    "The ratio of the volume contributing substantively to the integral to the volume of the bounding box gets smaller in higher dimensions. We illustrate this in two dimensions."
   ]
  },
  {
   "cell_type": "code",
   "execution_count": 3,
   "metadata": {},
   "outputs": [
    {
     "data": {
      "image/png": "[encoded data removed]",
      "text/plain": [
       "<Figure size 432x288 with 1 Axes>"
      ]
     },
     "metadata": {
      "needs_background": "light"
     },
     "output_type": "display_data"
    }
   ],
   "source": [
    "# define integrand in 2d\n",
    "problem = SimpleGaussian(2)\n",
    "\n",
    "# plot\n",
    "import matplotlib.pyplot as plt\n",
    "x = np.linspace(-1, 1, 100)\n",
    "y = np.linspace(-1, 1, 100)\n",
    "X, Y = np.meshgrid(x, y)\n",
    "Z = np.array([[problem.pdf([xs, ys])[0,0] for xs in x] for ys in y])\n",
    "plt.contour(X, Y, Z)\n",
    "plt.xlabel('x')\n",
    "plt.ylabel('y')\n",
    "plt.show()"
   ]
  },
  {
   "cell_type": "markdown",
   "metadata": {},
   "source": [
    "## Defining the integrator"
   ]
  },
  {
   "cell_type": "markdown",
   "metadata": {},
   "source": [
    "We now define an integrator that does the following:\n",
    "\n",
    "1. Draws $N$ samples from the multivariate normal distribution.\n",
    "2. Constructs a single \"root\" container that has all $N$ samples in it.\n",
    "3. Repeatedly splits the container (and its children) into two until all containers have fewer than $P$ samples. Here, we use the `minSseSplit` rule to determine how containers should be split: this chooses a splitting approach where the children are chosen to minimise the function evaluation variance, and the splits are always along the coordinate axes.\n",
    "4. Use the containers to numerically integrate the function. Here, we sample 100 function values uniformly within each container and calculate the median of the function values: the contribution of a given container to the overall integral is then this median function value multiplied by its (cuboidal) volume.\n",
    "\n",
    "Our function when called evalutes the integral, returning the integral value, the containers and the contributions of each to the overall integral."
   ]
  },
  {
   "cell_type": "code",
   "execution_count": 4,
   "metadata": {},
   "outputs": [],
   "source": [
    "from queue import SimpleQueue\n",
    "\n",
    "# Define the Integrator we gonna be testing today\n",
    "class SimpleIntegrator:\n",
    "    def __init__(self, N, P):\n",
    "        self.N = N\n",
    "        self.P = P\n",
    "        \n",
    "    def __call__(self, problem):        \n",
    "        # Draw samples\n",
    "        X = problem.d.rvs(self.N)\n",
    "        y = problem.pdf(X)\n",
    "        \n",
    "        # Construct root container using paired draws (X, y)\n",
    "        D = problem.D\n",
    "        root = tq.Container(X, y, mins=[problem.low]*D, maxs=[problem.high]*D)\n",
    "        \n",
    "        # Construct tree using a FIFO queue\n",
    "        finished_containers = []\n",
    "        q = SimpleQueue()\n",
    "        q.put(root)\n",
    "\n",
    "        while not q.empty():\n",
    "\n",
    "            c = q.get()\n",
    "\n",
    "            if c.N <= self.P:\n",
    "                finished_containers.append(c)\n",
    "            else:\n",
    "                children = tq.splits.minSseSplit(c)\n",
    "                for child in children:\n",
    "                    q.put(child)\n",
    "\n",
    "        # Integrate containers\n",
    "        contributions = [tq.containerIntegration.randomIntegral(cont, problem.pdf, n=100) for cont in finished_containers]\n",
    "        int_approx = np.sum(contributions)\n",
    "        \n",
    "        return int_approx, finished_containers, contributions"
   ]
  },
  {
   "cell_type": "markdown",
   "metadata": {},
   "source": [
    "We then use our integrator to the two-dimensional integral of the multivariate Gaussian target defined above."
   ]
  },
  {
   "cell_type": "code",
   "execution_count": 5,
   "metadata": {},
   "outputs": [],
   "source": [
    "# set number of samples of function and minimum number of draws per leaf container\n",
    "N = 10_000\n",
    "P = 40\n",
    "\n",
    "# define integrator\n",
    "integ = SimpleIntegrator(N, P)\n",
    "\n",
    "# perform integration\n",
    "G, fcs, cs = integ(problem)"
   ]
  },
  {
   "cell_type": "markdown",
   "metadata": {},
   "source": [
    "We can examine the error in our approximation of the integral."
   ]
  },
  {
   "cell_type": "code",
   "execution_count": 6,
   "metadata": {},
   "outputs": [
    {
     "name": "stdout",
     "output_type": "stream",
     "text": [
      "error = -4.827232923193392 %\n"
     ]
    }
   ],
   "source": [
    "print(\"error =\", str(100 * (G - problem.answer) / problem.answer), \"%\")"
   ]
  },
  {
   "cell_type": "markdown",
   "metadata": {},
   "source": [
    "We can then visualise the contribution of each of the containers to the overall integral value."
   ]
  },
  {
   "cell_type": "code",
   "execution_count": 7,
   "metadata": {},
   "outputs": [
    {
     "data": {
      "image/png": "[encoded data removed]",
      "text/plain": [
       "<Figure size 576x576 with 1 Axes>"
      ]
     },
     "metadata": {
      "needs_background": "light"
     },
     "output_type": "display_data"
    }
   ],
   "source": [
    "import matplotlib.pyplot as plt\n",
    "from matplotlib import cm\n",
    "\n",
    "fig = plt.figure(figsize=(8,8))\n",
    "ax = fig.add_subplot()\n",
    "ax.set_xlim([-0.3,0.3])\n",
    "ax.set_ylim([-0.3,0.3])\n",
    "cmap = cm.get_cmap('YlOrRd', 256)\n",
    "\n",
    "cs = tq.utils.scale(cs)\n",
    "\n",
    "for container, contribution in zip(fcs, cs):\n",
    "    tq.visualisation.plotContainer(ax, container, plot_samples=False,\n",
    "                                   fill=True, ec='black', facecolor=cmap(contribution), alpha=0.4)"
   ]
  }
 ],
 "metadata": {
  "kernelspec": {
   "display_name": "Python 3 (ipykernel)",
   "language": "python",
   "name": "python3"
  },
  "language_info": {
   "codemirror_mode": {
    "name": "ipython",
    "version": 3
   },
   "file_extension": ".py",
   "mimetype": "text/x-python",
   "name": "python",
   "nbconvert_exporter": "python",
   "pygments_lexer": "ipython3",
   "version": "3.9.7"
  }
 },
 "nbformat": 4,
 "nbformat_minor": 4
}
